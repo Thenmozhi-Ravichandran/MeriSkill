{
 "cells": [
  {
   "cell_type": "code",
   "execution_count": null,
   "id": "bdab6c37-b372-41f3-b5d6-d544eb04bf1e",
   "metadata": {},
   "outputs": [],
   "source": [
    "import pandas as pd"
   ]
  },
  {
   "cell_type": "code",
   "execution_count": null,
   "id": "633d9166",
   "metadata": {},
   "outputs": [],
   "source": [
    "#import\n",
    "import pandas as pd\n",
    "import numpy as np\n",
    "import matplotlib.pyplot as plt\n",
    "import seaborn as sns\n"
   ]
  },
  {
   "cell_type": "code",
   "execution_count": null,
   "id": "5bd2d780",
   "metadata": {},
   "outputs": [],
   "source": [
    "from sklearn.model_selection import train_test_split\n",
    "from sklearn.linear_model import LogisticRegression\n",
    "from sklearn.metrics import accuracy_score,classification_report,confusion_matrix\n",
    "from sklearn.preprocessing import StandardScaler\n",
    "from sklearn.ensemble import RandomForestClassifier,AdaBoostClassifier\n",
    "from sklearn.tree import DecisionTreeClassifier\n",
    "from sklearn.neighbors import KNeighborsClassifier\n",
    "\n"
   ]
  },
  {
   "cell_type": "code",
   "execution_count": null,
   "id": "8a0a899b",
   "metadata": {},
   "outputs": [],
   "source": [
    "data=pd.read_csv(\"E:\\diabetes.csv\")\n",
    "data"
   ]
  },
  {
   "cell_type": "code",
   "execution_count": null,
   "id": "682586c7",
   "metadata": {},
   "outputs": [],
   "source": [
    "sns.heatmap(data.isnull())"
   ]
  },
  {
   "cell_type": "code",
   "execution_count": null,
   "id": "9fc01c98",
   "metadata": {},
   "outputs": [],
   "source": [
    "correlation=data.corr()\n",
    "print(correlation)"
   ]
  },
  {
   "cell_type": "code",
   "execution_count": null,
   "id": "d91ef765",
   "metadata": {},
   "outputs": [],
   "source": [
    "sns.heatmap(data.corr())"
   ]
  },
  {
   "cell_type": "code",
   "execution_count": null,
   "id": "0d29c47d",
   "metadata": {},
   "outputs": [],
   "source": [
    "#standardize the feature\n",
    "scaler=StandardScaler()\n",
    "X_train_scaled=scaler.fit_transform(X_train)\n",
    "X_test_scaled=scaler.transform(X_test)\n"
   ]
  },
  {
   "cell_type": "code",
   "execution_count": null,
   "id": "7039b190",
   "metadata": {},
   "outputs": [],
   "source": [
    "#preparing the data\n",
    "X=data.drop(\"Outcome\",axis=1)\n",
    "Y=data['Outcome']\n",
    "X_train,X_test,Y_train,Y_test=train_test_split(X,Y,test_size=0.2,random_state=42)\n",
    "\n"
   ]
  },
  {
   "cell_type": "code",
   "execution_count": null,
   "id": "5c14fbe3",
   "metadata": {},
   "outputs": [],
   "source": [
    "#train a random classifier\n",
    "model=RandomForestClassifier(random_state=42)\n",
    "model.fit(X_train_scaled,Y_train)"
   ]
  },
  {
   "cell_type": "code",
   "execution_count": null,
   "id": "86ad5c1d",
   "metadata": {},
   "outputs": [],
   "source": [
    "#make prediction on the test set\n",
    "prediction=model.predict(X_test_scaled)\n",
    "print(prediction)\n"
   ]
  },
  {
   "cell_type": "code",
   "execution_count": null,
   "id": "109f6476",
   "metadata": {},
   "outputs": [],
   "source": [
    "#evaluate the model\n",
    "accuracy=accuracy_score(Y_test,prediction)\n",
    "print(accuracy)"
   ]
  },
  {
   "cell_type": "code",
   "execution_count": null,
   "id": "714ed4cd",
   "metadata": {},
   "outputs": [],
   "source": [
    "#display the first few rows\n",
    "print(data.head())\n",
    "#checking for missing values\n",
    "print(data.isnull().sum())\n",
    "#statistical summary\n",
    "print(data.describe())"
   ]
  },
  {
   "cell_type": "code",
   "execution_count": null,
   "id": "db300e58",
   "metadata": {},
   "outputs": [],
   "source": [
    "#distribution of target variable\n",
    "sns.countplot(x='Outcome',data=data)\n",
    "plt.title('Distribution of outcome(O:no diabetes,1:diabetes)')\n",
    "plt.show()"
   ]
  },
  {
   "cell_type": "code",
   "execution_count": null,
   "id": "6aee83c9",
   "metadata": {},
   "outputs": [],
   "source": [
    "#additonal evaluation metrics\n",
    "print('\\n classification report:')\n",
    "print(classification_report(Y_test,prediction))"
   ]
  },
  {
   "cell_type": "code",
   "execution_count": null,
   "id": "fc9f4224",
   "metadata": {},
   "outputs": [],
   "source": [
    "print('\\nconfusion matrix:')\n",
    "print(confusion_matrix(Y_test,prediction))"
   ]
  },
  {
   "cell_type": "code",
   "execution_count": null,
   "id": "4ad97723",
   "metadata": {},
   "outputs": [],
   "source": [
    "sns.set(style=\"whitegrid\")\n",
    "#1.Pregnancies\n",
    "plt.figure(figsize=(10,6))\n",
    "sns.countplot(x='Pregnancies',data=data)\n",
    "plt.title('No. of Pregnancies')\n",
    "plt.show()\n",
    "#2.Glucose\n",
    "plt.figure(figsize=(10,6))\n",
    "sns.histplot(x='Glucose',data=data,kde=True)\n",
    "plt.title('Distribution of Glucose Levels')\n",
    "plt.show()\n",
    "#3.Blood Pressure\n",
    "plt.figure(figsize=(10,6))\n",
    "sns.histplot(x='BloodPressure',data=data,kde=True)\n",
    "plt.title('Distribution of Blood Pressure')\n",
    "plt.show()\n",
    "#4.Skin THickness\n",
    "plt.figure(figsize=(10,6))\n",
    "sns.histplot(x='SkinThickness',data=data,kde=True)\n",
    "plt.title('Distribution of Skin Thickness')\n",
    "plt.show()\n",
    "#5.Insulin\n",
    "plt.figure(figsize=(10,6))\n",
    "sns.histplot(x='Insulin',data=data,kde=True)\n",
    "plt.title('Distribution of Insulin Levels')\n",
    "plt.show()\n",
    "#6.BMI\n",
    "plt.figure(figsize=(10,6))\n",
    "sns.histplot(x='BMI',data=data,kde=True)\n",
    "plt.title('Distribution of BMI')\n",
    "plt.show()\n",
    "#7.Diabetes Pedigree Function\n",
    "plt.figure(figsize=(10,6))\n",
    "sns.histplot(x='DiabetesPedigreeFunction',data=data,kde=True)\n",
    "plt.title('Distribution of Diabetes Pedigree Function Scores')\n",
    "plt.show()\n",
    "#8.Age\n",
    "plt.figure(figsize=(10,6))\n",
    "sns.histplot(x='Age',data=data,kde=True)\n",
    "plt.title('Distribution of Age')\n",
    "plt.show()\n",
    "#9.Outcome\n",
    "plt.figure(figsize=(10,6))\n",
    "sns.countplot(x='Outcome',data=data)\n",
    "plt.title('Distribution of Outcome 1: Diabetes (0: No Diabetes)')\n",
    "plt.show()\n"
   ]
  },
  {
   "cell_type": "code",
   "execution_count": null,
   "id": "4e6d75a4",
   "metadata": {},
   "outputs": [],
   "source": [
    "#boxplot of skin thickness\n",
    "plt.figure(figsize=(8,5))\n",
    "sns.boxplot(x='SkinThickness',data=data)\n",
    "plt.title('Boxplot of Skin Thickness')\n",
    "plt.show()"
   ]
  },
  {
   "cell_type": "code",
   "execution_count": null,
   "id": "b1cc2cff",
   "metadata": {},
   "outputs": [],
   "source": [
    "#outliners in skin thickness\n",
    "Q1_skin_thickness=data['SkinThickness'].quantile(0.25)\n",
    "Q3_skin_thickness=data['SkinThickness'].quantile(0.75)\n",
    "IQR_skin_thickness=Q3_skin_thickness-Q1_skin_thickness\n",
    "lower_bound_skin_thickness=Q1_skin_thickness-1.5*IQR_skin_thickness\n",
    "upper_bound_skin_thickness=Q3_skin_thickness+1.5*IQR_skin_thickness\n",
    "outliers_skin_thickness=data[(data['SkinThickness']<lower_bound_skin_thickness)|(data['SkinThickness']>upper_bound_skin_thickness)]\n",
    "print(f'Number of outliers in SkinThickness:{len(outliers_skin_thickness)}')\n"
   ]
  },
  {
   "cell_type": "code",
   "execution_count": null,
   "id": "d462aacc",
   "metadata": {},
   "outputs": [],
   "source": [
    "#boxplot of insulin\n",
    "plt.figure(figsize=(8,5))\n",
    "sns.boxplot(x='Insulin',data=data)\n",
    "plt.title('Boxplot of Insulin')\n",
    "plt.show()"
   ]
  },
  {
   "cell_type": "code",
   "execution_count": null,
   "id": "9ac8e8aa",
   "metadata": {},
   "outputs": [],
   "source": [
    "#outliners in insulin\n",
    "Q1_insulin = data['Insulin'].quantile(0.25)\n",
    "Q3_insulin = data['Insulin'].quantile(0.75)\n",
    "IQR_insulin = Q3_insulin - Q1_insulin\n",
    "lower_bound_insulin = Q1_insulin - 1.5 * IQR_insulin\n",
    "upper_bound_insulin = Q3_insulin + 1.5 * IQR_insulin\n",
    "outliers_insulin = data[(data['Insulin'] < lower_bound_insulin) |(data['Insulin'] > upper_bound_insulin)]\n",
    "print(f'Number of outliers in Insulin: {len(outliers_insulin)}')"
   ]
  },
  {
   "cell_type": "code",
   "execution_count": null,
   "id": "cd2aa529",
   "metadata": {},
   "outputs": [],
   "source": [
    "#visualization between features and pair plot\n",
    "sns.pairplot(data,hue='Outcome',diag_kind='kde',markers=[\"o\",\"s\"])\n",
    "plt.suptitle('Pair plotof Features with Outcome')\n",
    "plt.show()"
   ]
  },
  {
   "cell_type": "code",
   "execution_count": null,
   "id": "51db4884",
   "metadata": {},
   "outputs": [],
   "source": [
    "#Distribution of Age\n",
    "plt.figure(figsize=(10, 6))\n",
    "sns.histplot(x='Age', data=data, kde=True)\n",
    "plt.title('Distribution of Age')\n",
    "plt.show()\n"
   ]
  },
  {
   "cell_type": "code",
   "execution_count": null,
   "id": "e811f0bc",
   "metadata": {},
   "outputs": [],
   "source": [
    "#Distribution of cases accross BMI\n",
    "plt.figure(figsize=(10, 6))\n",
    "sns.boxplot(x='Outcome', y='BMI', data=data)\n",
    "plt.title('Distribution of Diabetic Cases across BMI')\n",
    "plt.show()"
   ]
  },
  {
   "cell_type": "code",
   "execution_count": null,
   "id": "07f71ee3",
   "metadata": {},
   "outputs": [],
   "source": [
    "#Distribution of cases accross glucose level\n",
    "plt.figure(figsize=(10, 6))\n",
    "sns.boxplot(x='Outcome', y='Glucose', data=data)\n",
    "plt.title('Distribution of Diabetic Cases across Glucose Levels')\n",
    "plt.show()\n"
   ]
  },
  {
   "cell_type": "code",
   "execution_count": null,
   "id": "f4213ad4",
   "metadata": {},
   "outputs": [],
   "source": []
  }
 ],
 "metadata": {
  "kernelspec": {
   "display_name": "Python 3 (ipykernel)",
   "language": "python",
   "name": "python3"
  },
  "language_info": {
   "codemirror_mode": {
    "name": "ipython",
    "version": 3
   },
   "file_extension": ".py",
   "mimetype": "text/x-python",
   "name": "python",
   "nbconvert_exporter": "python",
   "pygments_lexer": "ipython3",
   "version": "3.11.5"
  }
 },
 "nbformat": 4,
 "nbformat_minor": 5
}
